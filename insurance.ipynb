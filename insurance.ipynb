{
 "cells": [
  {
   "cell_type": "code",
   "execution_count": 2,
   "id": "2940f20b",
   "metadata": {},
   "outputs": [],
   "source": [
    "import pandas as pd\n",
    "import numpy as np\n",
    "from sklearn.model_selection import train_test_split\n",
    "from sklearn.preprocessing import LabelEncoder, StandardScaler\n",
    "from sklearn.ensemble import RandomForestClassifier, RandomForestRegressor\n",
    "from sklearn.metrics import accuracy_score, classification_report, mean_absolute_error, r2_score\n"
   ]
  },
  {
   "cell_type": "code",
   "execution_count": 11,
   "id": "0674f9a0",
   "metadata": {},
   "outputs": [
    {
     "name": "stdout",
     "output_type": "stream",
     "text": [
      "Classes found for 'sex': ['0', '1']\n",
      "Classes found for 'smoker': ['0', '1']\n",
      "Classes found for 'region': ['0', '1', '2', '3']\n"
     ]
    }
   ],
   "source": [
    "df = pd.read_csv('insurance3r2.csv')\n",
    "\n",
    "for col in ['sex', 'smoker', 'region']:\n",
    "    df[col] = df[col].astype(str).str.strip().str.lower()\n",
    "\n",
    "for col in ['sex', 'smoker', 'region']:\n",
    "    print(f\"Classes found for '{col}':\", sorted(df[col].unique()))\n",
    "df['claim'] = (df['charges'] > df['charges'].median()).astype(int)\n",
    "\n",
    "le_sex = LabelEncoder()\n",
    "df['sex'] = le_sex.fit_transform(df['sex'].astype(str).str.lower())\n",
    "\n",
    "le_smoker = LabelEncoder(); \n",
    "df['smoker'] = le_smoker.fit_transform(df['smoker'])\n",
    "le_region = LabelEncoder(); \n",
    "df['region'] = le_region.fit_transform(df['region'])\n",
    "\n",
    "features = ['age', 'sex', 'bmi', 'children', 'smoker', 'region']\n",
    "scaler = StandardScaler()\n",
    "df[features] = scaler.fit_transform(df[features])"
   ]
  },
  {
   "cell_type": "code",
   "execution_count": 12,
   "id": "0ee44434",
   "metadata": {},
   "outputs": [
    {
     "name": "stdout",
     "output_type": "stream",
     "text": [
      "--- Classification Model ---\n",
      "              precision    recall  f1-score   support\n",
      "\n",
      "    No Claim       0.92      0.96      0.94       146\n",
      "       Claim       0.95      0.90      0.92       122\n",
      "\n",
      "    accuracy                           0.93       268\n",
      "   macro avg       0.93      0.93      0.93       268\n",
      "weighted avg       0.93      0.93      0.93       268\n",
      "\n",
      "--- Regression Model ---\n",
      "MAE (regression): 3560.60\n",
      "R2 (regression): 0.74\n"
     ]
    }
   ],
   "source": [
    "X = df[features]\n",
    "y = df['claim']\n",
    "\n",
    "X_train, X_test, y_train, y_test = train_test_split(X, y, test_size=0.2, random_state=42)\n",
    "clf = RandomForestClassifier(random_state=42)\n",
    "clf.fit(X_train, y_train)\n",
    "\n",
    "print(\"--- Classification Model ---\")\n",
    "print(classification_report(y_test, clf.predict(X_test), target_names=['No Claim','Claim']))\n",
    "\n",
    "df_claimed = df[df['claim'] == 1]\n",
    "Xr = df_claimed[features]\n",
    "yr = df_claimed['charges']\n",
    "\n",
    "Xr_train, Xr_test, yr_train, yr_test = train_test_split(Xr, yr, test_size=0.2, random_state=42)\n",
    "regr = RandomForestRegressor(random_state=42)\n",
    "regr.fit(Xr_train, yr_train)\n",
    "\n",
    "yr_pred = regr.predict(Xr_test)\n",
    "print(\"--- Regression Model ---\")\n",
    "print(f\"MAE (regression): {mean_absolute_error(yr_test, yr_pred):.2f}\")\n",
    "print(f\"R2 (regression): {r2_score(yr_test, yr_pred):.2f}\")\n"
   ]
  },
  {
   "cell_type": "code",
   "execution_count": 14,
   "id": "4ce8544e",
   "metadata": {},
   "outputs": [
    {
     "name": "stdout",
     "output_type": "stream",
     "text": [
      "\n",
      "=== INSURANCE CLAIM PREDICTION ===\n",
      "Age (years): 10\n",
      "BMI: 17\n",
      "Number of children/dependents: 0\n",
      "Sex(0-male, 1-female)\n",
      "Enter the code for Sex: 0\n",
      "Smoker(0-no, 1-yes)\n",
      "Enter the code for Smoker: 0\n",
      "Region(0-northeast, 1-northwest, 2-southeast, 3-southwest)\n",
      "Enter the code for Region: 1\n",
      "\n",
      "Prediction: This person is UNLIKELY to claim insurance.\n",
      "Probability of claim: 10.00%\n"
     ]
    }
   ],
   "source": [
    "def get_number(prompt, _type=int):\n",
    "    while True:\n",
    "        val = input(prompt).strip()\n",
    "        try: return _type(val)\n",
    "        except ValueError: print(f\"Please enter a valid {_type.__name__}.\")\n",
    "\n",
    "def print_category_mapping(encoder, field_name):\n",
    "    display_map = \", \".join([f\"{i}-{cat}\" for i, cat in enumerate(encoder.classes_)])\n",
    "    print(f\"{field_name} options: {display_map}\")\n",
    "sex_mapping = {0: 'male', 1: 'female'}\n",
    "smoker_mapping = {0: 'no', 1: 'yes'}\n",
    "region_mapping = {0: 'northeast', 1: 'northwest', 2: 'southeast', 3: 'southwest'}\n",
    "\n",
    "\n",
    "print(\"\\n=== INSURANCE CLAIM PREDICTION ===\")\n",
    "age = get_number(\"Age (years): \", int)\n",
    "bmi = get_number(\"BMI: \", float)\n",
    "children = get_number(\"Number of children/dependents: \", int)\n",
    "\n",
    "def print_manual_mapping(mapping, field_name):\n",
    "    display_map = ', '.join(f\"{k}-{v}\" for k, v in mapping.items())\n",
    "    print(f\"{field_name}({display_map})\")\n",
    "\n",
    "\n",
    "print_manual_mapping(sex_mapping, \"Sex\")\n",
    "sex_code = get_number(\"Enter the code for Sex: \", int)\n",
    "\n",
    "print_manual_mapping(smoker_mapping, \"Smoker\")\n",
    "smoker_code = get_number(\"Enter the code for Smoker: \", int)\n",
    "\n",
    "print_manual_mapping(region_mapping, \"Region\")\n",
    "region_code = get_number(\"Enter the code for Region: \", int)\n",
    "\n",
    "user_dict = {\n",
    "    \"age\": age,\n",
    "    \"sex\": sex_code,\n",
    "    \"bmi\": bmi,\n",
    "    \"children\": children,\n",
    "    \"smoker\": smoker_code,\n",
    "    \"region\": region_code\n",
    "}\n",
    "\n",
    "user_df = pd.DataFrame([user_dict])\n",
    "user_df[features] = scaler.transform(user_df[features])\n",
    "prob_claim = clf.predict_proba(user_df[features])[0][1]\n",
    "is_claim = clf.predict(user_df[features])[0]\n",
    "\n",
    "if is_claim:\n",
    "    pred_amt = regr.predict(user_df[features])[0]\n",
    "    print(f\"\\nPrediction: This person is LIKELY to claim insurance.\")\n",
    "    print(f\"Estimated claim amount: ₹{pred_amt:.2f}\")\n",
    "else:\n",
    "    print(\"\\nPrediction: This person is UNLIKELY to claim insurance.\")\n",
    "print(f\"Probability of claim: {prob_claim:.2%}\")"
   ]
  },
  {
   "cell_type": "code",
   "execution_count": null,
   "id": "08d050d9",
   "metadata": {},
   "outputs": [],
   "source": []
  }
 ],
 "metadata": {
  "kernelspec": {
   "display_name": "Python 3 (ipykernel)",
   "language": "python",
   "name": "python3"
  },
  "language_info": {
   "codemirror_mode": {
    "name": "ipython",
    "version": 3
   },
   "file_extension": ".py",
   "mimetype": "text/x-python",
   "name": "python",
   "nbconvert_exporter": "python",
   "pygments_lexer": "ipython3",
   "version": "3.11.7"
  }
 },
 "nbformat": 4,
 "nbformat_minor": 5
}
